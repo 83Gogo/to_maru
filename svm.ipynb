{
 "cells": [
  {
   "cell_type": "code",
   "execution_count": 3,
   "metadata": {},
   "outputs": [],
   "source": [
    "import numpy as np\n",
    "import pandas as pd\n",
    "import matplotlib.pyplot as plt\n",
    "plt.rcParams['font.family'] = 'IPAexGothic'"
   ]
  },
  {
   "cell_type": "code",
   "execution_count": 7,
   "metadata": {},
   "outputs": [],
   "source": [
    "DATA_PATH = \".././data/平成28年度_データ.csv\""
   ]
  },
  {
   "cell_type": "code",
   "execution_count": 8,
   "metadata": {},
   "outputs": [
    {
     "data": {
      "text/html": [
       "<div>\n",
       "<style scoped>\n",
       "    .dataframe tbody tr th:only-of-type {\n",
       "        vertical-align: middle;\n",
       "    }\n",
       "\n",
       "    .dataframe tbody tr th {\n",
       "        vertical-align: top;\n",
       "    }\n",
       "\n",
       "    .dataframe thead th {\n",
       "        text-align: right;\n",
       "    }\n",
       "</style>\n",
       "<table border=\"1\" class=\"dataframe\">\n",
       "  <thead>\n",
       "    <tr style=\"text-align: right;\">\n",
       "      <th></th>\n",
       "      <th>健康寿命</th>\n",
       "      <th>感染症及び寄生虫</th>\n",
       "      <th>新生物</th>\n",
       "      <th>血液及び造血器の疾患並びに免疫機能の障害</th>\n",
       "      <th>内分泌栄養及び代謝疾患</th>\n",
       "      <th>精神及び行動の障害</th>\n",
       "      <th>神経系の疾患</th>\n",
       "      <th>眼及び付属器の疾患</th>\n",
       "      <th>耳及び乳様突起の疾患</th>\n",
       "      <th>循環器系の疾患</th>\n",
       "      <th>呼吸器系の疾患</th>\n",
       "      <th>消化器系の疾患</th>\n",
       "      <th>皮膚及び皮下組織の疾患</th>\n",
       "      <th>筋骨格系及び結合組織の疾患</th>\n",
       "      <th>腎尿路生殖器系の疾患</th>\n",
       "      <th>妊娠、分娩及び産褥</th>\n",
       "      <th>周産期に発生した病態</th>\n",
       "      <th>先天奇形、変形及び染色体異常</th>\n",
       "      <th>症状、徴候及び異常臨床所見・異常検査所見で他に分類されないもの</th>\n",
       "      <th>損傷、中毒及びその他の外因の影響</th>\n",
       "    </tr>\n",
       "    <tr>\n",
       "      <th>全 国</th>\n",
       "      <th></th>\n",
       "      <th></th>\n",
       "      <th></th>\n",
       "      <th></th>\n",
       "      <th></th>\n",
       "      <th></th>\n",
       "      <th></th>\n",
       "      <th></th>\n",
       "      <th></th>\n",
       "      <th></th>\n",
       "      <th></th>\n",
       "      <th></th>\n",
       "      <th></th>\n",
       "      <th></th>\n",
       "      <th></th>\n",
       "      <th></th>\n",
       "      <th></th>\n",
       "      <th></th>\n",
       "      <th></th>\n",
       "      <th></th>\n",
       "    </tr>\n",
       "  </thead>\n",
       "  <tbody>\n",
       "    <tr>\n",
       "      <th>北 海 道</th>\n",
       "      <td>72.931877</td>\n",
       "      <td>1.010837</td>\n",
       "      <td>1.275730</td>\n",
       "      <td>1.003346</td>\n",
       "      <td>1.087793</td>\n",
       "      <td>0.986912</td>\n",
       "      <td>1.103158</td>\n",
       "      <td>0.889851</td>\n",
       "      <td>1.068293</td>\n",
       "      <td>1.212906</td>\n",
       "      <td>0.983049</td>\n",
       "      <td>1.184279</td>\n",
       "      <td>1.030605</td>\n",
       "      <td>1.226395</td>\n",
       "      <td>1.120097</td>\n",
       "      <td>1.013677</td>\n",
       "      <td>1.081316</td>\n",
       "      <td>0.875423</td>\n",
       "      <td>1.042811</td>\n",
       "      <td>1.110112</td>\n",
       "    </tr>\n",
       "    <tr>\n",
       "      <th>青 森</th>\n",
       "      <td>73.087508</td>\n",
       "      <td>0.904601</td>\n",
       "      <td>1.146268</td>\n",
       "      <td>1.313999</td>\n",
       "      <td>1.086586</td>\n",
       "      <td>0.886471</td>\n",
       "      <td>0.998642</td>\n",
       "      <td>0.844097</td>\n",
       "      <td>0.791463</td>\n",
       "      <td>1.154894</td>\n",
       "      <td>0.985161</td>\n",
       "      <td>0.968224</td>\n",
       "      <td>0.890937</td>\n",
       "      <td>1.087865</td>\n",
       "      <td>1.014347</td>\n",
       "      <td>1.124698</td>\n",
       "      <td>0.759251</td>\n",
       "      <td>0.853694</td>\n",
       "      <td>0.956259</td>\n",
       "      <td>0.936899</td>\n",
       "    </tr>\n",
       "    <tr>\n",
       "      <th>岩 手</th>\n",
       "      <td>72.996266</td>\n",
       "      <td>0.859478</td>\n",
       "      <td>1.088169</td>\n",
       "      <td>1.018963</td>\n",
       "      <td>1.059226</td>\n",
       "      <td>1.169853</td>\n",
       "      <td>1.117686</td>\n",
       "      <td>1.006402</td>\n",
       "      <td>0.763415</td>\n",
       "      <td>1.105906</td>\n",
       "      <td>0.854373</td>\n",
       "      <td>0.953172</td>\n",
       "      <td>0.923909</td>\n",
       "      <td>0.956599</td>\n",
       "      <td>0.985306</td>\n",
       "      <td>1.327434</td>\n",
       "      <td>0.971677</td>\n",
       "      <td>1.067117</td>\n",
       "      <td>0.867846</td>\n",
       "      <td>0.867802</td>\n",
       "    </tr>\n",
       "    <tr>\n",
       "      <th>宮 城</th>\n",
       "      <td>73.289795</td>\n",
       "      <td>0.854148</td>\n",
       "      <td>1.062394</td>\n",
       "      <td>1.074177</td>\n",
       "      <td>1.130442</td>\n",
       "      <td>0.976471</td>\n",
       "      <td>1.099496</td>\n",
       "      <td>1.070985</td>\n",
       "      <td>1.034756</td>\n",
       "      <td>1.165786</td>\n",
       "      <td>0.974113</td>\n",
       "      <td>1.049336</td>\n",
       "      <td>0.972946</td>\n",
       "      <td>0.982108</td>\n",
       "      <td>1.055768</td>\n",
       "      <td>1.054304</td>\n",
       "      <td>0.950206</td>\n",
       "      <td>0.881700</td>\n",
       "      <td>0.933923</td>\n",
       "      <td>0.906452</td>\n",
       "    </tr>\n",
       "    <tr>\n",
       "      <th>秋 田</th>\n",
       "      <td>73.034934</td>\n",
       "      <td>0.858589</td>\n",
       "      <td>1.300949</td>\n",
       "      <td>1.321807</td>\n",
       "      <td>1.163676</td>\n",
       "      <td>1.043676</td>\n",
       "      <td>1.280547</td>\n",
       "      <td>1.055545</td>\n",
       "      <td>0.908537</td>\n",
       "      <td>1.192262</td>\n",
       "      <td>0.992093</td>\n",
       "      <td>1.263092</td>\n",
       "      <td>0.990362</td>\n",
       "      <td>1.252436</td>\n",
       "      <td>0.998264</td>\n",
       "      <td>1.043846</td>\n",
       "      <td>0.804477</td>\n",
       "      <td>0.829068</td>\n",
       "      <td>1.128897</td>\n",
       "      <td>0.943366</td>\n",
       "    </tr>\n",
       "  </tbody>\n",
       "</table>\n",
       "</div>"
      ],
      "text/plain": [
       "            健康寿命  感染症及び寄生虫       新生物  血液及び造血器の疾患並びに免疫機能の障害  内分泌栄養及び代謝疾患  \\\n",
       "全 国                                                                       \n",
       "北 海 道  72.931877  1.010837  1.275730              1.003346     1.087793   \n",
       "青 森    73.087508  0.904601  1.146268              1.313999     1.086586   \n",
       "岩 手    72.996266  0.859478  1.088169              1.018963     1.059226   \n",
       "宮 城    73.289795  0.854148  1.062394              1.074177     1.130442   \n",
       "秋 田    73.034934  0.858589  1.300949              1.321807     1.163676   \n",
       "\n",
       "       精神及び行動の障害    神経系の疾患  眼及び付属器の疾患  耳及び乳様突起の疾患   循環器系の疾患   呼吸器系の疾患  \\\n",
       "全 国                                                                     \n",
       "北 海 道   0.986912  1.103158   0.889851    1.068293  1.212906  0.983049   \n",
       "青 森     0.886471  0.998642   0.844097    0.791463  1.154894  0.985161   \n",
       "岩 手     1.169853  1.117686   1.006402    0.763415  1.105906  0.854373   \n",
       "宮 城     0.976471  1.099496   1.070985    1.034756  1.165786  0.974113   \n",
       "秋 田     1.043676  1.280547   1.055545    0.908537  1.192262  0.992093   \n",
       "\n",
       "        消化器系の疾患  皮膚及び皮下組織の疾患  筋骨格系及び結合組織の疾患  腎尿路生殖器系の疾患  妊娠、分娩及び産褥  \\\n",
       "全 国                                                                  \n",
       "北 海 道  1.184279     1.030605       1.226395    1.120097   1.013677   \n",
       "青 森    0.968224     0.890937       1.087865    1.014347   1.124698   \n",
       "岩 手    0.953172     0.923909       0.956599    0.985306   1.327434   \n",
       "宮 城    1.049336     0.972946       0.982108    1.055768   1.054304   \n",
       "秋 田    1.263092     0.990362       1.252436    0.998264   1.043846   \n",
       "\n",
       "       周産期に発生した病態  先天奇形、変形及び染色体異常  症状、徴候及び異常臨床所見・異常検査所見で他に分類されないもの  \\\n",
       "全 国                                                                  \n",
       "北 海 道    1.081316        0.875423                         1.042811   \n",
       "青 森      0.759251        0.853694                         0.956259   \n",
       "岩 手      0.971677        1.067117                         0.867846   \n",
       "宮 城      0.950206        0.881700                         0.933923   \n",
       "秋 田      0.804477        0.829068                         1.128897   \n",
       "\n",
       "       損傷、中毒及びその他の外因の影響  \n",
       "全 国                      \n",
       "北 海 道          1.110112  \n",
       "青 森            0.936899  \n",
       "岩 手            0.867802  \n",
       "宮 城            0.906452  \n",
       "秋 田            0.943366  "
      ]
     },
     "execution_count": 8,
     "metadata": {},
     "output_type": "execute_result"
    }
   ],
   "source": [
    "df = pd.read_csv(DATA_PATH,encoding=\"cp932\",index_col=[0],usecols=[i for i in range(22) if i != 2])\n",
    "df.head()"
   ]
  },
  {
   "cell_type": "code",
   "execution_count": 9,
   "metadata": {},
   "outputs": [
    {
     "data": {
      "text/plain": [
       "<matplotlib.axes._subplots.AxesSubplot at 0x1291c4ac8>"
      ]
     },
     "execution_count": 9,
     "metadata": {},
     "output_type": "execute_result"
    },
    {
     "data": {
      "image/png": "[encoded data removed]",
      "text/plain": [
       "<Figure size 432x288 with 1 Axes>"
      ]
     },
     "metadata": {
      "needs_background": "light"
     },
     "output_type": "display_data"
    }
   ],
   "source": [
    "df1 = df.copy()\n",
    "target  = df1[\"健康寿命\"]\n",
    "target.describe()\n",
    "target.plot.hist()"
   ]
  },
  {
   "cell_type": "code",
   "execution_count": 23,
   "metadata": {},
   "outputs": [
    {
     "data": {
      "text/plain": [
       "全 国\n",
       "北 海 道    1\n",
       "青 森      1\n",
       "岩 手      1\n",
       "宮 城      2\n",
       "秋 田      1\n",
       "Name: label, dtype: int64"
      ]
     },
     "execution_count": 23,
     "metadata": {},
     "output_type": "execute_result"
    }
   ],
   "source": [
    "df1 = df.copy()\n",
    "target  = df1[\"健康寿命\"]\n",
    "label_func = lambda x : round((x - 72) *  2 -1) \n",
    "df1[\"label\"] = target.apply(label_func)\n",
    "df1[\"label\"].head()"
   ]
  },
  {
   "cell_type": "code",
   "execution_count": 11,
   "metadata": {},
   "outputs": [
    {
     "name": "stdout",
     "output_type": "stream",
     "text": [
      "(47, 19)\n",
      "(47,)\n"
     ]
    }
   ],
   "source": [
    "X = df.iloc[:,1:22].values\n",
    "Y = df1[\"label\"].values\n",
    "print(X.shape)\n",
    "print(Y.shape)"
   ]
  },
  {
   "cell_type": "code",
   "execution_count": 12,
   "metadata": {},
   "outputs": [],
   "source": [
    "from sklearn.preprocessing import StandardScaler\n",
    "\n",
    "sc = StandardScaler()\n",
    "sc.fit(X)\n",
    "X_std = sc.transform(X)"
   ]
  },
  {
   "cell_type": "code",
   "execution_count": 13,
   "metadata": {},
   "outputs": [
    {
     "data": {
      "text/plain": [
       "SVC(C=1.0, cache_size=200, class_weight=None, coef0=0.0,\n",
       "    decision_function_shape='ovr', degree=3, gamma='auto_deprecated',\n",
       "    kernel='linear', max_iter=-1, probability=False, random_state=None,\n",
       "    shrinking=True, tol=0.001, verbose=False)"
      ]
     },
     "execution_count": 13,
     "metadata": {},
     "output_type": "execute_result"
    }
   ],
   "source": [
    "from sklearn.svm import SVC\n",
    "\n",
    "model = SVC(kernel=\"linear\",random_state=None)\n",
    "model.fit(X_std,np.round(Y,0))"
   ]
  },
  {
   "cell_type": "code",
   "execution_count": 14,
   "metadata": {},
   "outputs": [
    {
     "name": "stderr",
     "output_type": "stream",
     "text": [
      "/Users/morikawaemi/.pyenv/versions/3.6.4/lib/python3.6/site-packages/sklearn/ensemble/forest.py:245: FutureWarning: The default value of n_estimators will change from 10 in version 0.20 to 100 in 0.22.\n",
      "  \"10 in version 0.20 to 100 in 0.22.\", FutureWarning)\n"
     ]
    },
    {
     "data": {
      "text/plain": [
       "RandomForestClassifier(bootstrap=True, class_weight=None, criterion='gini',\n",
       "                       max_depth=None, max_features='auto', max_leaf_nodes=None,\n",
       "                       min_impurity_decrease=0.0, min_impurity_split=None,\n",
       "                       min_samples_leaf=1, min_samples_split=2,\n",
       "                       min_weight_fraction_leaf=0.0, n_estimators=10,\n",
       "                       n_jobs=None, oob_score=False, random_state=None,\n",
       "                       verbose=0, warm_start=False)"
      ]
     },
     "execution_count": 14,
     "metadata": {},
     "output_type": "execute_result"
    }
   ],
   "source": [
    "#from sklearn.linear_model import RamdomForestClassifier\n",
    "from sklearn.ensemble import RandomForestClassifier\n",
    "model1 = RandomForestClassifier()\n",
    "model1.fit(X_std,np.round(Y,0))"
   ]
  },
  {
   "cell_type": "code",
   "execution_count": 15,
   "metadata": {},
   "outputs": [
    {
     "name": "stdout",
     "output_type": "stream",
     "text": [
      "トレーニングデータに対する正解率： 1.00\n"
     ]
    }
   ],
   "source": [
    "from sklearn.metrics import accuracy_score\n",
    "\n",
    "pred_train = model1.predict(X_std)\n",
    "accuracy_train = accuracy_score(Y,pred_train)\n",
    "print('トレーニングデータに対する正解率： %.2f' % accuracy_train)"
   ]
  },
  {
   "cell_type": "code",
   "execution_count": 21,
   "metadata": {
    "scrolled": true
   },
   "outputs": [
    {
     "data": {
      "image/png": "[encoded data removed]",
      "text/plain": [
       "<Figure size 936x576 with 1 Axes>"
      ]
     },
     "metadata": {
      "needs_background": "light"
     },
     "output_type": "display_data"
    }
   ],
   "source": [
    "from mlxtend.plotting import plot_decision_regions\n",
    "from sklearn.manifold import MDS\n",
    "fig = plt.figure(figsize=(13,8))\n",
    "\n",
    "importances = model1.feature_importances_\n",
    "feature = df.columns.to_list()[1:]\n",
    "indices = np.argsort(importances)\n",
    "\n",
    "plt.title(\"Feature importances\")\n",
    "plt.barh(range(len(indices)),importances[indices],color=\"b\",align=\"center\")\n",
    "plt.yticks(range(len(indices)),[feature[i] for i in indices])\n",
    "plt.xlabel(\"Relative Importance\")\n",
    "plt.show()\n"
   ]
  },
  {
   "cell_type": "code",
   "execution_count": 24,
   "metadata": {},
   "outputs": [
    {
     "ename": "IndexError",
     "evalue": "list index out of range",
     "output_type": "error",
     "traceback": [
      "\u001b[0;31m---------------------------------------------------------------------------\u001b[0m",
      "\u001b[0;31mIndexError\u001b[0m                                Traceback (most recent call last)",
      "\u001b[0;32m<ipython-input-24-617757642a36>\u001b[0m in \u001b[0;36m<module>\u001b[0;34m\u001b[0m\n\u001b[1;32m      4\u001b[0m \u001b[0mX_mds\u001b[0m \u001b[0;34m=\u001b[0m \u001b[0membedding\u001b[0m\u001b[0;34m.\u001b[0m\u001b[0mfit_transform\u001b[0m\u001b[0;34m(\u001b[0m\u001b[0mX_std\u001b[0m\u001b[0;34m)\u001b[0m\u001b[0;34m\u001b[0m\u001b[0m\n\u001b[1;32m      5\u001b[0m \u001b[0;32mfor\u001b[0m \u001b[0mi\u001b[0m \u001b[0;32min\u001b[0m \u001b[0mrange\u001b[0m\u001b[0;34m(\u001b[0m\u001b[0mlen\u001b[0m\u001b[0;34m(\u001b[0m\u001b[0mX_mds\u001b[0m\u001b[0;34m)\u001b[0m\u001b[0;34m)\u001b[0m\u001b[0;34m:\u001b[0m\u001b[0;34m\u001b[0m\u001b[0m\n\u001b[0;32m----> 6\u001b[0;31m     \u001b[0mplt\u001b[0m\u001b[0;34m.\u001b[0m\u001b[0mscatter\u001b[0m\u001b[0;34m(\u001b[0m\u001b[0mX_mds\u001b[0m\u001b[0;34m[\u001b[0m\u001b[0mi\u001b[0m\u001b[0;34m,\u001b[0m\u001b[0;36m0\u001b[0m\u001b[0;34m]\u001b[0m\u001b[0;34m,\u001b[0m\u001b[0mX_mds\u001b[0m\u001b[0;34m[\u001b[0m\u001b[0mi\u001b[0m\u001b[0;34m,\u001b[0m\u001b[0;36m1\u001b[0m\u001b[0;34m]\u001b[0m\u001b[0;34m,\u001b[0m\u001b[0mcolor\u001b[0m\u001b[0;34m=\u001b[0m\u001b[0mcolor_list\u001b[0m\u001b[0;34m[\u001b[0m\u001b[0mpred_train\u001b[0m\u001b[0;34m[\u001b[0m\u001b[0mi\u001b[0m\u001b[0;34m]\u001b[0m\u001b[0;34m]\u001b[0m\u001b[0;34m)\u001b[0m\u001b[0;34m\u001b[0m\u001b[0m\n\u001b[0m\u001b[1;32m      7\u001b[0m     \u001b[0mplt\u001b[0m\u001b[0;34m.\u001b[0m\u001b[0mannotate\u001b[0m\u001b[0;34m(\u001b[0m\u001b[0mindex_col\u001b[0m\u001b[0;34m[\u001b[0m\u001b[0mi\u001b[0m\u001b[0;34m]\u001b[0m\u001b[0;34m,\u001b[0m\u001b[0mxy\u001b[0m\u001b[0;34m=\u001b[0m\u001b[0;34m(\u001b[0m\u001b[0mX_mds\u001b[0m\u001b[0;34m[\u001b[0m\u001b[0mi\u001b[0m\u001b[0;34m,\u001b[0m\u001b[0;36m0\u001b[0m\u001b[0;34m]\u001b[0m\u001b[0;34m,\u001b[0m\u001b[0mX_mds\u001b[0m\u001b[0;34m[\u001b[0m\u001b[0mi\u001b[0m\u001b[0;34m,\u001b[0m\u001b[0;36m1\u001b[0m\u001b[0;34m]\u001b[0m\u001b[0;34m)\u001b[0m\u001b[0;34m)\u001b[0m\u001b[0;34m\u001b[0m\u001b[0m\n\u001b[1;32m      8\u001b[0m \u001b[0mplt\u001b[0m\u001b[0;34m.\u001b[0m\u001b[0mshow\u001b[0m\u001b[0;34m(\u001b[0m\u001b[0;34m)\u001b[0m\u001b[0;34m\u001b[0m\u001b[0m\n",
      "\u001b[0;31mIndexError\u001b[0m: list index out of range"
     ]
    },
    {
     "data": {
      "image/png": "[encoded data removed]",
      "text/plain": [
       "<Figure size 432x288 with 1 Axes>"
      ]
     },
     "metadata": {
      "needs_background": "light"
     },
     "output_type": "display_data"
    }
   ],
   "source": [
    "index_col = df1.index.to_list()\n",
    "color_list = [\"red\",\"coral\",\"yellow\",\"yellowgreen\",\"lime\"]\n",
    "embedding = MDS(n_components=2)\n",
    "X_mds = embedding.fit_transform(X_std)\n",
    "for i in range(len(X_mds)):\n",
    "    plt.scatter(X_mds[i,0],X_mds[i,1],color=color_list[pred_train[i]])\n",
    "    plt.annotate(index_col[i],xy=(X_mds[i,0],X_mds[i,1]))\n",
    "plt.show()"
   ]
  },
  {
   "cell_type": "code",
   "execution_count": null,
   "metadata": {},
   "outputs": [],
   "source": []
  }
 ],
 "metadata": {
  "kernelspec": {
   "display_name": "Python 3",
   "language": "python",
   "name": "python3"
  },
  "language_info": {
   "codemirror_mode": {
    "name": "ipython",
    "version": 3
   },
   "file_extension": ".py",
   "mimetype": "text/x-python",
   "name": "python",
   "nbconvert_exporter": "python",
   "pygments_lexer": "ipython3",
   "version": "3.6.4"
  }
 },
 "nbformat": 4,
 "nbformat_minor": 2
}
